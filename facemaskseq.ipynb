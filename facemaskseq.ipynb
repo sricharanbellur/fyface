{
 "cells": [
  {
   "cell_type": "markdown",
   "id": "f381458a",
   "metadata": {},
   "source": [
    "### 1- Dataset acquisition \n",
    "Dataset link : https://www.kaggle.com/datasets/omkargurav/face-mask-dataset\n",
    "\n",
    "Contains two classes : Without mask and with mask \n",
    "\n",
    "3725 Images of Face with Mask\n",
    "3828 Images of Face without Mask.\n",
    "\n",
    "\n"
   ]
  },
  {
   "cell_type": "code",
   "execution_count": null,
   "id": "9ef6e013",
   "metadata": {},
   "outputs": [],
   "source": []
  },
  {
   "cell_type": "markdown",
   "id": "a663c4b7",
   "metadata": {},
   "source": [
    "### 2- Training - Sequential Model"
   ]
  },
  {
   "cell_type": "code",
   "execution_count": 1,
   "id": "a20da8ba",
   "metadata": {},
   "outputs": [],
   "source": [
    "##importing modules \n",
    "import numpy as np \n",
    "import matplotlib.pyplot as plt \n",
    "import cv2\n",
    "import tensorflow as tf \n",
    "import os\n",
    "import random\n",
    "import shutil\n",
    "from tensorflow.keras.preprocessing.image import ImageDataGenerator\n",
    "from tensorflow.keras.preprocessing import image_dataset_from_directory\n",
    "from keras.models import load_model\n",
    "from keras.preprocessing import image\n",
    "from sklearn.metrics import classification_report, confusion_matrix\n",
    "from sklearn.metrics import ConfusionMatrixDisplay"
   ]
  },
  {
   "cell_type": "code",
   "execution_count": 2,
   "id": "1672238f",
   "metadata": {},
   "outputs": [
    {
     "name": "stdout",
     "output_type": "stream",
     "text": [
      "Found 5665 images belonging to 2 classes.\n",
      "Found 1888 images belonging to 2 classes.\n"
     ]
    }
   ],
   "source": [
    "train_dir = \"Dataset/Train/\"\n",
    "validation_dir = \"Dataset/Validation/\"\n",
    "classes_ = [\"Mask\",\"Non Mask\"]\n",
    "\n",
    "train_datagen = ImageDataGenerator(\n",
    "    featurewise_center=True,\n",
    "    featurewise_std_normalization=True,\n",
    "    rotation_range=20,\n",
    "    width_shift_range=0.2,\n",
    "    height_shift_range=0.2,\n",
    "    horizontal_flip=True)\n",
    "train_generator = train_datagen.flow_from_directory(\n",
    "        train_dir,\n",
    "        target_size=(224, 224),\n",
    "        batch_size=32,\n",
    "        class_mode='binary')\n",
    "\n",
    "validation_datagen = ImageDataGenerator(\n",
    "    featurewise_center=True,\n",
    "    featurewise_std_normalization=True,\n",
    "    rotation_range=20,\n",
    "    width_shift_range=0.2,\n",
    "    height_shift_range=0.2)\n",
    "validation_generator = train_datagen.flow_from_directory(\n",
    "        validation_dir,\n",
    "        target_size=(224, 224),\n",
    "        batch_size=32,\n",
    "        class_mode='binary')"
   ]
  },
  {
   "cell_type": "code",
   "execution_count": 3,
   "id": "3be862ef",
   "metadata": {},
   "outputs": [
    {
     "name": "stdout",
     "output_type": "stream",
     "text": [
      "Model: \"sequential\"\n",
      "_________________________________________________________________\n",
      "Layer (type)                 Output Shape              Param #   \n",
      "=================================================================\n",
      "conv2d (Conv2D)              (None, 222, 222, 16)      448       \n",
      "_________________________________________________________________\n",
      "average_pooling2d (AveragePo (None, 111, 111, 16)      0         \n",
      "_________________________________________________________________\n",
      "conv2d_1 (Conv2D)            (None, 109, 109, 32)      4640      \n",
      "_________________________________________________________________\n",
      "average_pooling2d_1 (Average (None, 54, 54, 32)        0         \n",
      "_________________________________________________________________\n",
      "conv2d_2 (Conv2D)            (None, 52, 52, 64)        18496     \n",
      "_________________________________________________________________\n",
      "average_pooling2d_2 (Average (None, 26, 26, 64)        0         \n",
      "_________________________________________________________________\n",
      "flatten (Flatten)            (None, 43264)             0         \n",
      "_________________________________________________________________\n",
      "dense (Dense)                (None, 128)               5537920   \n",
      "_________________________________________________________________\n",
      "dense_1 (Dense)              (None, 1)                 129       \n",
      "=================================================================\n",
      "Total params: 5,561,633\n",
      "Trainable params: 5,561,633\n",
      "Non-trainable params: 0\n",
      "_________________________________________________________________\n"
     ]
    }
   ],
   "source": [
    "model = tf.keras.Sequential([\n",
    "      tf.keras.layers.Conv2D(16,input_shape=(224,224,3), activation='relu', kernel_size=(3,3)),\n",
    "      tf.keras.layers.AveragePooling2D((2,2)),\n",
    "      tf.keras.layers.Conv2D(32, activation='relu', kernel_size=(3,3)),\n",
    "      tf.keras.layers.AveragePooling2D((2,2)),\n",
    "      tf.keras.layers.Conv2D(64, activation='relu', kernel_size=(3,3)),\n",
    "      tf.keras.layers.AveragePooling2D((2,2)),\n",
    "      tf.keras.layers.Flatten(),\n",
    "      tf.keras.layers.Dense(128, activation='relu'),\n",
    "      tf.keras.layers.Dense(1, activation='sigmoid'),\n",
    "])\n",
    "model.summary()\n"
   ]
  },
  {
   "cell_type": "code",
   "execution_count": 4,
   "id": "3b74fc85",
   "metadata": {},
   "outputs": [
    {
     "name": "stderr",
     "output_type": "stream",
     "text": [
      "c:\\Users\\srich\\AppData\\Local\\Programs\\Python\\Python39\\lib\\site-packages\\keras_preprocessing\\image\\image_data_generator.py:720: UserWarning: This ImageDataGenerator specifies `featurewise_center`, but it hasn't been fit on any training data. Fit it first by calling `.fit(numpy_data)`.\n",
      "  warnings.warn('This ImageDataGenerator specifies '\n",
      "c:\\Users\\srich\\AppData\\Local\\Programs\\Python\\Python39\\lib\\site-packages\\keras_preprocessing\\image\\image_data_generator.py:728: UserWarning: This ImageDataGenerator specifies `featurewise_std_normalization`, but it hasn't been fit on any training data. Fit it first by calling `.fit(numpy_data)`.\n",
      "  warnings.warn('This ImageDataGenerator specifies '\n"
     ]
    },
    {
     "name": "stdout",
     "output_type": "stream",
     "text": [
      "Epoch 1/20\n",
      " 43/178 [======>.......................] - ETA: 4:30 - loss: 32.5918 - binary_accuracy: 0.6335 - false_negatives: 228.0000"
     ]
    },
    {
     "ename": "KeyboardInterrupt",
     "evalue": "",
     "output_type": "error",
     "traceback": [
      "\u001b[1;31m---------------------------------------------------------------------------\u001b[0m",
      "\u001b[1;31mKeyboardInterrupt\u001b[0m                         Traceback (most recent call last)",
      "\u001b[1;32m~\\AppData\\Local\\Temp/ipykernel_9128/856149158.py\u001b[0m in \u001b[0;36m<module>\u001b[1;34m\u001b[0m\n\u001b[0;32m      4\u001b[0m                        tf.keras.metrics.FalseNegatives()])\n\u001b[0;32m      5\u001b[0m \u001b[0mcallback\u001b[0m \u001b[1;33m=\u001b[0m \u001b[0mtf\u001b[0m\u001b[1;33m.\u001b[0m\u001b[0mkeras\u001b[0m\u001b[1;33m.\u001b[0m\u001b[0mcallbacks\u001b[0m\u001b[1;33m.\u001b[0m\u001b[0mEarlyStopping\u001b[0m\u001b[1;33m(\u001b[0m\u001b[0mmonitor\u001b[0m\u001b[1;33m=\u001b[0m\u001b[1;34m'loss'\u001b[0m\u001b[1;33m,\u001b[0m \u001b[0mpatience\u001b[0m\u001b[1;33m=\u001b[0m\u001b[1;36m6\u001b[0m\u001b[1;33m)\u001b[0m\u001b[1;33m\u001b[0m\u001b[1;33m\u001b[0m\u001b[0m\n\u001b[1;32m----> 6\u001b[1;33m history = model.fit(\n\u001b[0m\u001b[0;32m      7\u001b[0m     \u001b[0mtrain_generator\u001b[0m\u001b[1;33m,\u001b[0m\u001b[1;33m\u001b[0m\u001b[1;33m\u001b[0m\u001b[0m\n\u001b[0;32m      8\u001b[0m     \u001b[0mbatch_size\u001b[0m\u001b[1;33m=\u001b[0m\u001b[1;36m32\u001b[0m\u001b[1;33m,\u001b[0m\u001b[1;33m\u001b[0m\u001b[1;33m\u001b[0m\u001b[0m\n",
      "\u001b[1;32mc:\\Users\\srich\\AppData\\Local\\Programs\\Python\\Python39\\lib\\site-packages\\tensorflow\\python\\keras\\engine\\training.py\u001b[0m in \u001b[0;36mfit\u001b[1;34m(self, x, y, batch_size, epochs, verbose, callbacks, validation_split, validation_data, shuffle, class_weight, sample_weight, initial_epoch, steps_per_epoch, validation_steps, validation_batch_size, validation_freq, max_queue_size, workers, use_multiprocessing)\u001b[0m\n\u001b[0;32m   1181\u001b[0m                 _r=1):\n\u001b[0;32m   1182\u001b[0m               \u001b[0mcallbacks\u001b[0m\u001b[1;33m.\u001b[0m\u001b[0mon_train_batch_begin\u001b[0m\u001b[1;33m(\u001b[0m\u001b[0mstep\u001b[0m\u001b[1;33m)\u001b[0m\u001b[1;33m\u001b[0m\u001b[1;33m\u001b[0m\u001b[0m\n\u001b[1;32m-> 1183\u001b[1;33m               \u001b[0mtmp_logs\u001b[0m \u001b[1;33m=\u001b[0m \u001b[0mself\u001b[0m\u001b[1;33m.\u001b[0m\u001b[0mtrain_function\u001b[0m\u001b[1;33m(\u001b[0m\u001b[0miterator\u001b[0m\u001b[1;33m)\u001b[0m\u001b[1;33m\u001b[0m\u001b[1;33m\u001b[0m\u001b[0m\n\u001b[0m\u001b[0;32m   1184\u001b[0m               \u001b[1;32mif\u001b[0m \u001b[0mdata_handler\u001b[0m\u001b[1;33m.\u001b[0m\u001b[0mshould_sync\u001b[0m\u001b[1;33m:\u001b[0m\u001b[1;33m\u001b[0m\u001b[1;33m\u001b[0m\u001b[0m\n\u001b[0;32m   1185\u001b[0m                 \u001b[0mcontext\u001b[0m\u001b[1;33m.\u001b[0m\u001b[0masync_wait\u001b[0m\u001b[1;33m(\u001b[0m\u001b[1;33m)\u001b[0m\u001b[1;33m\u001b[0m\u001b[1;33m\u001b[0m\u001b[0m\n",
      "\u001b[1;32mc:\\Users\\srich\\AppData\\Local\\Programs\\Python\\Python39\\lib\\site-packages\\tensorflow\\python\\eager\\def_function.py\u001b[0m in \u001b[0;36m__call__\u001b[1;34m(self, *args, **kwds)\u001b[0m\n\u001b[0;32m    887\u001b[0m \u001b[1;33m\u001b[0m\u001b[0m\n\u001b[0;32m    888\u001b[0m       \u001b[1;32mwith\u001b[0m \u001b[0mOptionalXlaContext\u001b[0m\u001b[1;33m(\u001b[0m\u001b[0mself\u001b[0m\u001b[1;33m.\u001b[0m\u001b[0m_jit_compile\u001b[0m\u001b[1;33m)\u001b[0m\u001b[1;33m:\u001b[0m\u001b[1;33m\u001b[0m\u001b[1;33m\u001b[0m\u001b[0m\n\u001b[1;32m--> 889\u001b[1;33m         \u001b[0mresult\u001b[0m \u001b[1;33m=\u001b[0m \u001b[0mself\u001b[0m\u001b[1;33m.\u001b[0m\u001b[0m_call\u001b[0m\u001b[1;33m(\u001b[0m\u001b[1;33m*\u001b[0m\u001b[0margs\u001b[0m\u001b[1;33m,\u001b[0m \u001b[1;33m**\u001b[0m\u001b[0mkwds\u001b[0m\u001b[1;33m)\u001b[0m\u001b[1;33m\u001b[0m\u001b[1;33m\u001b[0m\u001b[0m\n\u001b[0m\u001b[0;32m    890\u001b[0m \u001b[1;33m\u001b[0m\u001b[0m\n\u001b[0;32m    891\u001b[0m       \u001b[0mnew_tracing_count\u001b[0m \u001b[1;33m=\u001b[0m \u001b[0mself\u001b[0m\u001b[1;33m.\u001b[0m\u001b[0mexperimental_get_tracing_count\u001b[0m\u001b[1;33m(\u001b[0m\u001b[1;33m)\u001b[0m\u001b[1;33m\u001b[0m\u001b[1;33m\u001b[0m\u001b[0m\n",
      "\u001b[1;32mc:\\Users\\srich\\AppData\\Local\\Programs\\Python\\Python39\\lib\\site-packages\\tensorflow\\python\\eager\\def_function.py\u001b[0m in \u001b[0;36m_call\u001b[1;34m(self, *args, **kwds)\u001b[0m\n\u001b[0;32m    915\u001b[0m       \u001b[1;31m# In this case we have created variables on the first call, so we run the\u001b[0m\u001b[1;33m\u001b[0m\u001b[1;33m\u001b[0m\u001b[0m\n\u001b[0;32m    916\u001b[0m       \u001b[1;31m# defunned version which is guaranteed to never create variables.\u001b[0m\u001b[1;33m\u001b[0m\u001b[1;33m\u001b[0m\u001b[0m\n\u001b[1;32m--> 917\u001b[1;33m       \u001b[1;32mreturn\u001b[0m \u001b[0mself\u001b[0m\u001b[1;33m.\u001b[0m\u001b[0m_stateless_fn\u001b[0m\u001b[1;33m(\u001b[0m\u001b[1;33m*\u001b[0m\u001b[0margs\u001b[0m\u001b[1;33m,\u001b[0m \u001b[1;33m**\u001b[0m\u001b[0mkwds\u001b[0m\u001b[1;33m)\u001b[0m  \u001b[1;31m# pylint: disable=not-callable\u001b[0m\u001b[1;33m\u001b[0m\u001b[1;33m\u001b[0m\u001b[0m\n\u001b[0m\u001b[0;32m    918\u001b[0m     \u001b[1;32melif\u001b[0m \u001b[0mself\u001b[0m\u001b[1;33m.\u001b[0m\u001b[0m_stateful_fn\u001b[0m \u001b[1;32mis\u001b[0m \u001b[1;32mnot\u001b[0m \u001b[1;32mNone\u001b[0m\u001b[1;33m:\u001b[0m\u001b[1;33m\u001b[0m\u001b[1;33m\u001b[0m\u001b[0m\n\u001b[0;32m    919\u001b[0m       \u001b[1;31m# Release the lock early so that multiple threads can perform the call\u001b[0m\u001b[1;33m\u001b[0m\u001b[1;33m\u001b[0m\u001b[0m\n",
      "\u001b[1;32mc:\\Users\\srich\\AppData\\Local\\Programs\\Python\\Python39\\lib\\site-packages\\tensorflow\\python\\eager\\function.py\u001b[0m in \u001b[0;36m__call__\u001b[1;34m(self, *args, **kwargs)\u001b[0m\n\u001b[0;32m   3021\u001b[0m       (graph_function,\n\u001b[0;32m   3022\u001b[0m        filtered_flat_args) = self._maybe_define_function(args, kwargs)\n\u001b[1;32m-> 3023\u001b[1;33m     return graph_function._call_flat(\n\u001b[0m\u001b[0;32m   3024\u001b[0m         filtered_flat_args, captured_inputs=graph_function.captured_inputs)  # pylint: disable=protected-access\n\u001b[0;32m   3025\u001b[0m \u001b[1;33m\u001b[0m\u001b[0m\n",
      "\u001b[1;32mc:\\Users\\srich\\AppData\\Local\\Programs\\Python\\Python39\\lib\\site-packages\\tensorflow\\python\\eager\\function.py\u001b[0m in \u001b[0;36m_call_flat\u001b[1;34m(self, args, captured_inputs, cancellation_manager)\u001b[0m\n\u001b[0;32m   1958\u001b[0m         and executing_eagerly):\n\u001b[0;32m   1959\u001b[0m       \u001b[1;31m# No tape is watching; skip to running the function.\u001b[0m\u001b[1;33m\u001b[0m\u001b[1;33m\u001b[0m\u001b[0m\n\u001b[1;32m-> 1960\u001b[1;33m       return self._build_call_outputs(self._inference_function.call(\n\u001b[0m\u001b[0;32m   1961\u001b[0m           ctx, args, cancellation_manager=cancellation_manager))\n\u001b[0;32m   1962\u001b[0m     forward_backward = self._select_forward_and_backward_functions(\n",
      "\u001b[1;32mc:\\Users\\srich\\AppData\\Local\\Programs\\Python\\Python39\\lib\\site-packages\\tensorflow\\python\\eager\\function.py\u001b[0m in \u001b[0;36mcall\u001b[1;34m(self, ctx, args, cancellation_manager)\u001b[0m\n\u001b[0;32m    589\u001b[0m       \u001b[1;32mwith\u001b[0m \u001b[0m_InterpolateFunctionError\u001b[0m\u001b[1;33m(\u001b[0m\u001b[0mself\u001b[0m\u001b[1;33m)\u001b[0m\u001b[1;33m:\u001b[0m\u001b[1;33m\u001b[0m\u001b[1;33m\u001b[0m\u001b[0m\n\u001b[0;32m    590\u001b[0m         \u001b[1;32mif\u001b[0m \u001b[0mcancellation_manager\u001b[0m \u001b[1;32mis\u001b[0m \u001b[1;32mNone\u001b[0m\u001b[1;33m:\u001b[0m\u001b[1;33m\u001b[0m\u001b[1;33m\u001b[0m\u001b[0m\n\u001b[1;32m--> 591\u001b[1;33m           outputs = execute.execute(\n\u001b[0m\u001b[0;32m    592\u001b[0m               \u001b[0mstr\u001b[0m\u001b[1;33m(\u001b[0m\u001b[0mself\u001b[0m\u001b[1;33m.\u001b[0m\u001b[0msignature\u001b[0m\u001b[1;33m.\u001b[0m\u001b[0mname\u001b[0m\u001b[1;33m)\u001b[0m\u001b[1;33m,\u001b[0m\u001b[1;33m\u001b[0m\u001b[1;33m\u001b[0m\u001b[0m\n\u001b[0;32m    593\u001b[0m               \u001b[0mnum_outputs\u001b[0m\u001b[1;33m=\u001b[0m\u001b[0mself\u001b[0m\u001b[1;33m.\u001b[0m\u001b[0m_num_outputs\u001b[0m\u001b[1;33m,\u001b[0m\u001b[1;33m\u001b[0m\u001b[1;33m\u001b[0m\u001b[0m\n",
      "\u001b[1;32mc:\\Users\\srich\\AppData\\Local\\Programs\\Python\\Python39\\lib\\site-packages\\tensorflow\\python\\eager\\execute.py\u001b[0m in \u001b[0;36mquick_execute\u001b[1;34m(op_name, num_outputs, inputs, attrs, ctx, name)\u001b[0m\n\u001b[0;32m     57\u001b[0m   \u001b[1;32mtry\u001b[0m\u001b[1;33m:\u001b[0m\u001b[1;33m\u001b[0m\u001b[1;33m\u001b[0m\u001b[0m\n\u001b[0;32m     58\u001b[0m     \u001b[0mctx\u001b[0m\u001b[1;33m.\u001b[0m\u001b[0mensure_initialized\u001b[0m\u001b[1;33m(\u001b[0m\u001b[1;33m)\u001b[0m\u001b[1;33m\u001b[0m\u001b[1;33m\u001b[0m\u001b[0m\n\u001b[1;32m---> 59\u001b[1;33m     tensors = pywrap_tfe.TFE_Py_Execute(ctx._handle, device_name, op_name,\n\u001b[0m\u001b[0;32m     60\u001b[0m                                         inputs, attrs, num_outputs)\n\u001b[0;32m     61\u001b[0m   \u001b[1;32mexcept\u001b[0m \u001b[0mcore\u001b[0m\u001b[1;33m.\u001b[0m\u001b[0m_NotOkStatusException\u001b[0m \u001b[1;32mas\u001b[0m \u001b[0me\u001b[0m\u001b[1;33m:\u001b[0m\u001b[1;33m\u001b[0m\u001b[1;33m\u001b[0m\u001b[0m\n",
      "\u001b[1;31mKeyboardInterrupt\u001b[0m: "
     ]
    }
   ],
   "source": [
    "model.compile(optimizer=tf.keras.optimizers.Adam(learning_rate=1e-3),\n",
    "              loss=tf.keras.losses.BinaryCrossentropy(),\n",
    "              metrics=[tf.keras.metrics.BinaryAccuracy(),\n",
    "                       tf.keras.metrics.FalseNegatives()])\n",
    "callback = tf.keras.callbacks.EarlyStopping(monitor='loss', patience=6)\n",
    "history = model.fit(\n",
    "    train_generator,\n",
    "    batch_size=32,\n",
    "    validation_data=validation_generator,\n",
    "    epochs=20,\n",
    "    callbacks=[callback])"
   ]
  },
  {
   "cell_type": "markdown",
   "id": "03e69100",
   "metadata": {},
   "source": [
    "###  Plotting results (Accuracy and loss)"
   ]
  },
  {
   "cell_type": "code",
   "execution_count": null,
   "id": "e767e1df",
   "metadata": {},
   "outputs": [
    {
     "name": "stdout",
     "output_type": "stream",
     "text": [
      "dict_keys(['loss', 'binary_accuracy', 'false_negatives', 'val_loss', 'val_binary_accuracy', 'val_false_negatives'])\n"
     ]
    },
    {
     "data": {
      "image/png": "[encoded data removed]",
      "text/plain": [
       "<Figure size 432x288 with 1 Axes>"
      ]
     },
     "metadata": {
      "needs_background": "light"
     },
     "output_type": "display_data"
    },
    {
     "data": {
      "image/png": "[encoded data removed]",
      "text/plain": [
       "<Figure size 432x288 with 1 Axes>"
      ]
     },
     "metadata": {
      "needs_background": "light"
     },
     "output_type": "display_data"
    }
   ],
   "source": [
    "print(history.history.keys())\n",
    "# summarize history for accuracy\n",
    "\n",
    "plt.plot(history.history['binary_accuracy'])\n",
    "plt.plot(history.history['val_binary_accuracy'])\n",
    "plt.title('model accuracy')\n",
    "plt.ylabel('accuracy')\n",
    "plt.xlabel('epoch')\n",
    "plt.legend(['train', 'test'], loc='upper left')\n",
    "plt.show()\n",
    "# summarize history for loss\n",
    "plt.plot(history.history['loss'])\n",
    "plt.plot(history.history['val_loss'])\n",
    "plt.title('model loss')\n",
    "plt.ylabel('loss')\n",
    "plt.xlabel('epoch')\n",
    "plt.legend(['train', 'test'], loc='upper left')\n",
    "\n",
    "plt.show()"
   ]
  },
  {
   "cell_type": "markdown",
   "id": "d329f303",
   "metadata": {},
   "source": [
    "### 3- Testing and evaluating"
   ]
  },
  {
   "cell_type": "code",
   "execution_count": null,
   "id": "2cb019a4",
   "metadata": {},
   "outputs": [
    {
     "name": "stdout",
     "output_type": "stream",
     "text": [
      "Confusion Matrix\n"
     ]
    },
    {
     "data": {
      "image/png": "[encoded data removed]",
      "text/plain": [
       "<Figure size 432x288 with 2 Axes>"
      ]
     },
     "metadata": {
      "needs_background": "light"
     },
     "output_type": "display_data"
    }
   ],
   "source": [
    "img_width=224\n",
    "img_height=224\n",
    "images = []\n",
    "for folder in os.listdir(validation_dir):\n",
    "    folder = os.path.join(validation_dir,folder)\n",
    "    for img in os.listdir(folder):\n",
    "        img = os.path.join(folder,img)\n",
    "        img = image.load_img(img, target_size=(img_width, img_height))\n",
    "        img = image.img_to_array(img)\n",
    "        img = np.expand_dims(img, axis=0)\n",
    "        images.append(img)\n",
    "images = np.vstack(images)\n",
    "classes = model.predict(images, batch_size=10)\n",
    "y_pred=[]\n",
    "for i,v in enumerate(classes):\n",
    "    if (v>0.5):\n",
    "        y_pred.append(1)\n",
    "    else:\n",
    "        y_pred.append(0)\n",
    "print('Confusion Matrix')\n",
    "cm = confusion_matrix(validation_generator.classes, y_pred)\n",
    "disp = ConfusionMatrixDisplay(confusion_matrix=cm, display_labels=['Non Mask','Mask'])\n",
    "disp.plot(cmap=plt.cm.Blues)\n",
    "plt.show()\n"
   ]
  },
  {
   "cell_type": "code",
   "execution_count": null,
   "id": "77102b39",
   "metadata": {},
   "outputs": [
    {
     "name": "stdout",
     "output_type": "stream",
     "text": [
      "Classification Report\n",
      "              precision    recall  f1-score   support\n",
      "\n",
      "    Non Mask       0.93      0.73      0.82       931\n",
      "        Mask       0.79      0.94      0.86       957\n",
      "\n",
      "    accuracy                           0.84      1888\n",
      "   macro avg       0.86      0.84      0.84      1888\n",
      "weighted avg       0.85      0.84      0.84      1888\n",
      "\n"
     ]
    }
   ],
   "source": [
    "\n",
    "print('Classification Report')\n",
    "target_names = ['Non Mask','Mask']\n",
    "print(classification_report(validation_generator.classes, y_pred, target_names=target_names))"
   ]
  },
  {
   "cell_type": "markdown",
   "id": "eeef5e5f",
   "metadata": {},
   "source": [
    "### 4- Saving trained model"
   ]
  },
  {
   "cell_type": "code",
   "execution_count": null,
   "id": "82d67e72",
   "metadata": {},
   "outputs": [],
   "source": [
    "model_json = model.to_json()\n",
    "with open(\"modelseq.json\", \"w\") as json_file:\n",
    "    json_file.write(model_json)\n",
    "model.save('fmdseq1.h5')"
   ]
  },
  {
   "cell_type": "markdown",
   "id": "93075ae2",
   "metadata": {},
   "source": [
    "### Training - VGG16 Model"
   ]
  },
  {
   "cell_type": "code",
   "execution_count": 2,
   "id": "eb1cb451",
   "metadata": {},
   "outputs": [],
   "source": [
    "from keras.layers import Input, Lambda, Dense, Flatten\n",
    "from keras.models import Model\n",
    "from keras.applications.vgg16 import VGG16\n",
    "from keras.applications.vgg16 import preprocess_input\n",
    "from keras.preprocessing import image\n",
    "from keras.preprocessing.image import ImageDataGenerator\n",
    "from keras.models import Sequential\n",
    "import numpy as np\n",
    "from glob import glob\n",
    "import matplotlib.pyplot as plt\n"
   ]
  },
  {
   "cell_type": "code",
   "execution_count": 3,
   "id": "ead66f07",
   "metadata": {},
   "outputs": [],
   "source": [
    "IMAGE_SIZE = [224, 224]\n",
    "\n",
    "train_path = 'Dataset/Train'\n",
    "valid_path = 'Dataset/Validation'"
   ]
  },
  {
   "cell_type": "code",
   "execution_count": 4,
   "id": "04dedda1",
   "metadata": {},
   "outputs": [],
   "source": [
    "vgg = VGG16(input_shape=IMAGE_SIZE + [3], weights='imagenet', include_top=False)\n",
    "\n",
    "# don't train existing weights\n",
    "for layer in vgg.layers:\n",
    "  layer.trainable = False"
   ]
  },
  {
   "cell_type": "code",
   "execution_count": 5,
   "id": "1e0754e6",
   "metadata": {},
   "outputs": [
    {
     "name": "stdout",
     "output_type": "stream",
     "text": [
      "Model: \"model\"\n",
      "_________________________________________________________________\n",
      "Layer (type)                 Output Shape              Param #   \n",
      "=================================================================\n",
      "input_1 (InputLayer)         [(None, 224, 224, 3)]     0         \n",
      "_________________________________________________________________\n",
      "block1_conv1 (Conv2D)        (None, 224, 224, 64)      1792      \n",
      "_________________________________________________________________\n",
      "block1_conv2 (Conv2D)        (None, 224, 224, 64)      36928     \n",
      "_________________________________________________________________\n",
      "block1_pool (MaxPooling2D)   (None, 112, 112, 64)      0         \n",
      "_________________________________________________________________\n",
      "block2_conv1 (Conv2D)        (None, 112, 112, 128)     73856     \n",
      "_________________________________________________________________\n",
      "block2_conv2 (Conv2D)        (None, 112, 112, 128)     147584    \n",
      "_________________________________________________________________\n",
      "block2_pool (MaxPooling2D)   (None, 56, 56, 128)       0         \n",
      "_________________________________________________________________\n",
      "block3_conv1 (Conv2D)        (None, 56, 56, 256)       295168    \n",
      "_________________________________________________________________\n",
      "block3_conv2 (Conv2D)        (None, 56, 56, 256)       590080    \n",
      "_________________________________________________________________\n",
      "block3_conv3 (Conv2D)        (None, 56, 56, 256)       590080    \n",
      "_________________________________________________________________\n",
      "block3_pool (MaxPooling2D)   (None, 28, 28, 256)       0         \n",
      "_________________________________________________________________\n",
      "block4_conv1 (Conv2D)        (None, 28, 28, 512)       1180160   \n",
      "_________________________________________________________________\n",
      "block4_conv2 (Conv2D)        (None, 28, 28, 512)       2359808   \n",
      "_________________________________________________________________\n",
      "block4_conv3 (Conv2D)        (None, 28, 28, 512)       2359808   \n",
      "_________________________________________________________________\n",
      "block4_pool (MaxPooling2D)   (None, 14, 14, 512)       0         \n",
      "_________________________________________________________________\n",
      "block5_conv1 (Conv2D)        (None, 14, 14, 512)       2359808   \n",
      "_________________________________________________________________\n",
      "block5_conv2 (Conv2D)        (None, 14, 14, 512)       2359808   \n",
      "_________________________________________________________________\n",
      "block5_conv3 (Conv2D)        (None, 14, 14, 512)       2359808   \n",
      "_________________________________________________________________\n",
      "block5_pool (MaxPooling2D)   (None, 7, 7, 512)         0         \n",
      "_________________________________________________________________\n",
      "flatten (Flatten)            (None, 25088)             0         \n",
      "_________________________________________________________________\n",
      "dense (Dense)                (None, 2)                 50178     \n",
      "=================================================================\n",
      "Total params: 14,764,866\n",
      "Trainable params: 50,178\n",
      "Non-trainable params: 14,714,688\n",
      "_________________________________________________________________\n"
     ]
    }
   ],
   "source": [
    "folders = glob('Dataset/Train/*')\n",
    "  \n",
    "\n",
    "# our layers - you can add more if you want\n",
    "x = Flatten()(vgg.output)\n",
    "\n",
    "prediction = Dense(len(folders), activation='softmax')(x)\n",
    "\n",
    "# create a model object\n",
    "model = Model(inputs=vgg.input, outputs=prediction)\n",
    "\n",
    "# view the structure of the model\n",
    "model.summary()\n",
    "\n",
    "# tell the model what cost and optimization method to use\n"
   ]
  },
  {
   "cell_type": "code",
   "execution_count": 6,
   "id": "25d47493",
   "metadata": {},
   "outputs": [
    {
     "name": "stdout",
     "output_type": "stream",
     "text": [
      "Found 600 images belonging to 2 classes.\n",
      "Found 306 images belonging to 2 classes.\n"
     ]
    }
   ],
   "source": [
    "model.compile(\n",
    "  loss='categorical_crossentropy',\n",
    "  optimizer='adam',\n",
    "  metrics=['accuracy']\n",
    ")\n",
    "\n",
    "\n",
    "from keras.preprocessing.image import ImageDataGenerator\n",
    "\n",
    "train_datagen = ImageDataGenerator(rescale = 1./255,\n",
    "                                   shear_range = 0.2,\n",
    "                                   zoom_range = 0.2,\n",
    "                                   horizontal_flip = True)\n",
    "\n",
    "test_datagen = ImageDataGenerator(rescale = 1./255)\n",
    "\n",
    "training_set = train_datagen.flow_from_directory('Dataset/Train',\n",
    "                                                 target_size = (224, 224),\n",
    "                                                 batch_size = 32,\n",
    "                                                 class_mode = 'categorical')\n",
    "\n",
    "test_set = test_datagen.flow_from_directory('Dataset/Validation',\n",
    "                                            target_size = (224, 224),\n",
    "                                            batch_size = 32,\n",
    "                                            class_mode = 'categorical')\n",
    "\n"
   ]
  },
  {
   "cell_type": "code",
   "execution_count": 7,
   "id": "ee6fb98c",
   "metadata": {},
   "outputs": [
    {
     "name": "stderr",
     "output_type": "stream",
     "text": [
      "C:\\Users\\srich\\AppData\\Local\\Programs\\Python\\Python39\\lib\\site-packages\\tensorflow\\python\\keras\\engine\\training.py:1940: UserWarning: `Model.fit_generator` is deprecated and will be removed in a future version. Please use `Model.fit`, which supports generators.\n",
      "  warnings.warn('`Model.fit_generator` is deprecated and '\n"
     ]
    },
    {
     "name": "stdout",
     "output_type": "stream",
     "text": [
      "Epoch 1/20\n",
      "19/19 [==============================] - 303s 16s/step - loss: 0.8882 - accuracy: 0.7233 - val_loss: 0.2005 - val_accuracy: 0.9183\n",
      "Epoch 2/20\n",
      "19/19 [==============================] - 298s 16s/step - loss: 0.2945 - accuracy: 0.8917 - val_loss: 0.3237 - val_accuracy: 0.8758\n",
      "Epoch 3/20\n",
      "19/19 [==============================] - 310s 17s/step - loss: 0.1041 - accuracy: 0.9600 - val_loss: 0.1442 - val_accuracy: 0.9477\n",
      "Epoch 4/20\n",
      "19/19 [==============================] - 291s 16s/step - loss: 0.0620 - accuracy: 0.9850 - val_loss: 0.1265 - val_accuracy: 0.9575\n",
      "Epoch 5/20\n",
      "19/19 [==============================] - 294s 16s/step - loss: 0.0511 - accuracy: 0.9900 - val_loss: 0.1173 - val_accuracy: 0.9575\n",
      "Epoch 6/20\n",
      "19/19 [==============================] - 284s 15s/step - loss: 0.0428 - accuracy: 0.9933 - val_loss: 0.1207 - val_accuracy: 0.9641\n",
      "Epoch 7/20\n",
      "19/19 [==============================] - 286s 15s/step - loss: 0.0324 - accuracy: 0.9967 - val_loss: 0.1314 - val_accuracy: 0.9542\n",
      "Epoch 8/20\n",
      "19/19 [==============================] - 289s 16s/step - loss: 0.0337 - accuracy: 0.9917 - val_loss: 0.1214 - val_accuracy: 0.9575\n",
      "Epoch 9/20\n",
      "19/19 [==============================] - 291s 16s/step - loss: 0.0265 - accuracy: 0.9983 - val_loss: 0.1121 - val_accuracy: 0.9608\n",
      "Epoch 10/20\n",
      "19/19 [==============================] - 285s 15s/step - loss: 0.0234 - accuracy: 0.9983 - val_loss: 0.1355 - val_accuracy: 0.9477\n",
      "Epoch 11/20\n",
      "19/19 [==============================] - 287s 15s/step - loss: 0.0208 - accuracy: 0.9967 - val_loss: 0.1226 - val_accuracy: 0.9542\n",
      "Epoch 12/20\n",
      "19/19 [==============================] - 286s 15s/step - loss: 0.0164 - accuracy: 0.9983 - val_loss: 0.1396 - val_accuracy: 0.9379\n",
      "Epoch 13/20\n",
      "19/19 [==============================] - 281s 15s/step - loss: 0.0146 - accuracy: 1.0000 - val_loss: 0.1090 - val_accuracy: 0.9575\n",
      "Epoch 14/20\n",
      "19/19 [==============================] - 283s 15s/step - loss: 0.0203 - accuracy: 0.9967 - val_loss: 0.1113 - val_accuracy: 0.9575\n",
      "Epoch 15/20\n",
      "19/19 [==============================] - 283s 15s/step - loss: 0.0161 - accuracy: 0.9983 - val_loss: 0.1213 - val_accuracy: 0.9510\n",
      "Epoch 16/20\n",
      "19/19 [==============================] - 281s 15s/step - loss: 0.0115 - accuracy: 1.0000 - val_loss: 0.1334 - val_accuracy: 0.9412\n",
      "Epoch 17/20\n",
      "19/19 [==============================] - 282s 15s/step - loss: 0.0120 - accuracy: 0.9983 - val_loss: 0.1112 - val_accuracy: 0.9608\n",
      "Epoch 18/20\n",
      "19/19 [==============================] - 284s 15s/step - loss: 0.0086 - accuracy: 1.0000 - val_loss: 0.1065 - val_accuracy: 0.9575\n",
      "Epoch 19/20\n",
      "19/19 [==============================] - 283s 15s/step - loss: 0.0100 - accuracy: 0.9983 - val_loss: 0.0959 - val_accuracy: 0.9673\n",
      "Epoch 20/20\n",
      "19/19 [==============================] - 281s 15s/step - loss: 0.0076 - accuracy: 1.0000 - val_loss: 0.0961 - val_accuracy: 0.9673\n"
     ]
    }
   ],
   "source": [
    "r = model.fit_generator(\n",
    "  training_set,\n",
    "  validation_data=test_set,\n",
    "  epochs=20,\n",
    "  steps_per_epoch=len(training_set),\n",
    "  validation_steps=len(test_set)\n",
    ")"
   ]
  },
  {
   "cell_type": "code",
   "execution_count": 10,
   "id": "41967cae",
   "metadata": {},
   "outputs": [
    {
     "data": {
      "image/png": "[encoded data removed]",
      "text/plain": [
       "<Figure size 432x288 with 1 Axes>"
      ]
     },
     "metadata": {
      "needs_background": "light"
     },
     "output_type": "display_data"
    },
    {
     "data": {
      "image/png": "[encoded data removed]",
      "text/plain": [
       "<Figure size 432x288 with 1 Axes>"
      ]
     },
     "metadata": {
      "needs_background": "light"
     },
     "output_type": "display_data"
    }
   ],
   "source": [
    "plt.plot(r.history['loss'], label='train loss')\n",
    "plt.plot(r.history['val_loss'], label='val loss')\n",
    "plt.ylabel(\"Loss\")\n",
    "plt.xlabel(\"Epochs\")\n",
    "plt.title(\"Train and validation Loss\")\n",
    "plt.legend()\n",
    "plt.show()\n",
    "\n",
    "\n",
    "# accuracies\n",
    "plt.plot(r.history['accuracy'], label='train acc')\n",
    "plt.plot(r.history['val_accuracy'], label='val acc')\n",
    "plt.ylabel(\"Accuracy\")\n",
    "plt.xlabel(\"Epochs\")\n",
    "plt.title(\"Train and validation Accuracy\")\n",
    "plt.legend()\n",
    "plt.show()\n"
   ]
  },
  {
   "cell_type": "code",
   "execution_count": 19,
   "id": "3c25586a",
   "metadata": {},
   "outputs": [],
   "source": [
    "train_data_dir=\"Dataset/Train\"\n",
    "test_data_dir=\"Dataset/Validation\"\n",
    "all_train_imagePaths = list(paths.list_images(train_data_dir))\n",
    "all_test_imagePaths = list(paths.list_images(test_data_dir))\n",
    "train_data = []\n",
    "train_labels = []\n",
    "test_data = []\n",
    "test_labels = []\n",
    "\n",
    "for imagePath in all_train_imagePaths:\n",
    "# extract the class label from the filename\n",
    "    label = imagePath.split(os.path.sep)[-2]\n",
    "\n",
    "\t# load the input image (224x224) and preprocess it\n",
    "    image = load_img(imagePath, target_size=(224, 224))\n",
    "    image = img_to_array(image)\n",
    "    image = preprocess_input(image)\n",
    "\n",
    "\t# update the data and labels lists, respectively\n",
    "    train_data.append(image)\n",
    "    train_labels.append(label)\n",
    "for imagePath in all_test_imagePaths:\n",
    "# extract the class label from the filename\n",
    "    label = imagePath.split(os.path.sep)[-2]\n",
    "\n",
    "\t# load the input image (224x224) and preprocess it\n",
    "    image = load_img(imagePath, target_size=(224, 224))\n",
    "\n",
    "    image = img_to_array(image)\n",
    "    image = preprocess_input(image)\n",
    "\n",
    "\t# update the data and labels lists, respectively\n",
    "    test_data.append(image)\n",
    "    test_labels.append(label)\n",
    "    "
   ]
  },
  {
   "cell_type": "code",
   "execution_count": 22,
   "id": "a364fe75",
   "metadata": {},
   "outputs": [
    {
     "name": "stdout",
     "output_type": "stream",
     "text": [
      "Size of train dataset :  600\n",
      "Size of test dataset :  306\n"
     ]
    }
   ],
   "source": [
    "def convert_data_labels(data,labels):\n",
    "  #convert the data and labels to NumPy arrays\n",
    "    data = np.array(data, dtype=\"float32\")\n",
    "    labels = np.array(labels)\n",
    "\n",
    "  # perform one-hot encoding on the labels\n",
    "    lb = LabelBinarizer()\n",
    "    labels = lb.fit_transform(labels)\n",
    "    labels = to_categorical(labels)\n",
    "    return  data,labels\n",
    "train_data,train_labels = convert_data_labels(train_data,train_labels)\n",
    "test_data,test_labels = convert_data_labels(test_data,test_labels)\n",
    "print(\"Size of train dataset : \",train_data.shape[0])\n",
    "\n",
    "print(\"Size of test dataset : \",test_data.shape[0])"
   ]
  },
  {
   "cell_type": "code",
   "execution_count": 23,
   "id": "029f9311",
   "metadata": {},
   "outputs": [
    {
     "name": "stdout",
     "output_type": "stream",
     "text": [
      "[INFO] evaluating network...\n",
      "10/10 [==============================] - 80s 8s/step - loss: 0.1015 - accuracy: 0.9673\n",
      "Accuracy is :  0.9673202633857727\n",
      "Loss is :  0.10153726488351822\n"
     ]
    }
   ],
   "source": [
    "print(\"[INFO] evaluating network...\")\n",
    "predIdxs = model.predict(test_data, batch_size=32)\n",
    "\n",
    "predIdxs = np.argmax(predIdxs, axis=1)\n",
    "val_loss,val_acc = model.evaluate(test_data,test_labels)\n",
    "\n",
    "print(\"Accuracy is : \",val_acc)\n",
    "\n",
    "print(\"Loss is : \",val_loss)"
   ]
  },
  {
   "cell_type": "code",
   "execution_count": 24,
   "id": "2e2ac747",
   "metadata": {},
   "outputs": [
    {
     "name": "stdout",
     "output_type": "stream",
     "text": [
      "              precision    recall  f1-score   support\n",
      "\n",
      "           0       0.98      0.95      0.97       153\n",
      "           1       0.96      0.98      0.97       153\n",
      "\n",
      "    accuracy                           0.97       306\n",
      "   macro avg       0.97      0.97      0.97       306\n",
      "weighted avg       0.97      0.97      0.97       306\n",
      "\n"
     ]
    }
   ],
   "source": [
    "print(classification_report(test_labels.argmax(axis=1), predIdxs))"
   ]
  },
  {
   "cell_type": "code",
   "execution_count": 25,
   "id": "581c9d2b",
   "metadata": {},
   "outputs": [
    {
     "name": "stdout",
     "output_type": "stream",
     "text": [
      "Confusion Matrix\n"
     ]
    },
    {
     "data": {
      "image/png": "[encoded data removed]",
      "text/plain": [
       "<Figure size 432x288 with 2 Axes>"
      ]
     },
     "metadata": {
      "needs_background": "light"
     },
     "output_type": "display_data"
    }
   ],
   "source": [
    "from sklearn.metrics import  confusion_matrix,ConfusionMatrixDisplay\n",
    "print('Confusion Matrix')\n",
    "cm = confusion_matrix(test_labels.argmax(axis=1),predIdxs)\n",
    "disp = ConfusionMatrixDisplay(confusion_matrix=cm, display_labels=['Non Mask','Mask'])\n",
    "disp.plot(cmap=plt.cm.Blues)\n",
    "plt.show()"
   ]
  },
  {
   "cell_type": "code",
   "execution_count": 2,
   "id": "67134ab7",
   "metadata": {},
   "outputs": [
    {
     "data": {
      "image/png": "[encoded data removed]",
      "text/plain": [
       "<Figure size 360x288 with 1 Axes>"
      ]
     },
     "metadata": {
      "needs_background": "light"
     },
     "output_type": "display_data"
    }
   ],
   "source": [
    "import numpy as np\n",
    "import matplotlib.pyplot as plt\n",
    " \n",
    "  \n",
    "# creating the dataset\n",
    "data = {'Sequential CNN':84,\"VGG16\" : 96.3 ,\"MOBILENETV2\":99}\n",
    "models = list(data.keys())\n",
    "values = list(data.values())\n",
    "  \n",
    "fig = plt.figure(figsize = (5, 4))\n",
    "for i in range(len(models)):\n",
    "    plt.text(i,values[i],values[i])\n",
    "# creating the bar plot\n",
    "plt.bar(models, values, color ='blue',\n",
    "        width = 0.2)\n",
    " \n",
    "plt.xlabel(\"Models\")\n",
    "plt.ylabel(\"Percentage of accuracy\")\n",
    "plt.title(\"Comparision between Sequential and MobileNetv2\")\n",
    "plt.show()"
   ]
  },
  {
   "cell_type": "code",
   "execution_count": 29,
   "id": "45a101b0",
   "metadata": {},
   "outputs": [],
   "source": [
    "model.save('fmdvgg16.h5')"
   ]
  },
  {
   "cell_type": "code",
   "execution_count": 46,
   "id": "617d0f4a",
   "metadata": {},
   "outputs": [
    {
     "name": "stdout",
     "output_type": "stream",
     "text": [
      "Found 600 images belonging to 2 classes.\n",
      "Found 306 images belonging to 2 classes.\n"
     ]
    }
   ],
   "source": [
    "import os\n",
    "import tensorflow as tf\n",
    "import cv2\n",
    "import numpy as np\n",
    "from tensorflow.keras import layers\n",
    "from tensorflow.keras import Model\n",
    "from tensorflow.keras.applications.inception_v3 import InceptionV3\n",
    "from tensorflow.keras.preprocessing.image import ImageDataGenerator\n",
    "\n",
    "train_datagen = ImageDataGenerator(\n",
    "        rescale=1./255,\n",
    "        shear_range=0.2,\n",
    "        zoom_range=0.2,\n",
    "        horizontal_flip=True)\n",
    "\n",
    "\n",
    "\n",
    "train_data = train_datagen.flow_from_directory(\n",
    "        'Dataset/train',\n",
    "        target_size=(224, 224),\n",
    "        batch_size=32,\n",
    "        class_mode='categorical',\n",
    "        shuffle= True)\n",
    "\n",
    "test_datagen = ImageDataGenerator(rescale = 1./255)\n",
    "test_set = test_datagen.flow_from_directory('Dataset/Validation',\n",
    "                                            target_size = (224, 224),\n",
    "                                            batch_size = 32,\n",
    "                                            class_mode = 'categorical')"
   ]
  },
  {
   "cell_type": "code",
   "execution_count": 50,
   "id": "7763124b",
   "metadata": {},
   "outputs": [
    {
     "name": "stdout",
     "output_type": "stream",
     "text": [
      "(None, 5, 5, 1280)\n",
      "Model: \"model_5\"\n",
      "__________________________________________________________________________________________________\n",
      "Layer (type)                    Output Shape         Param #     Connected to                     \n",
      "==================================================================================================\n",
      "input_7 (InputLayer)            [(None, 224, 224, 3) 0                                            \n",
      "__________________________________________________________________________________________________\n",
      "conv2d_564 (Conv2D)             (None, 111, 111, 32) 864         input_7[0][0]                    \n",
      "__________________________________________________________________________________________________\n",
      "batch_normalization_564 (BatchN (None, 111, 111, 32) 96          conv2d_564[0][0]                 \n",
      "__________________________________________________________________________________________________\n",
      "activation_564 (Activation)     (None, 111, 111, 32) 0           batch_normalization_564[0][0]    \n",
      "__________________________________________________________________________________________________\n",
      "conv2d_565 (Conv2D)             (None, 109, 109, 32) 9216        activation_564[0][0]             \n",
      "__________________________________________________________________________________________________\n",
      "batch_normalization_565 (BatchN (None, 109, 109, 32) 96          conv2d_565[0][0]                 \n",
      "__________________________________________________________________________________________________\n",
      "activation_565 (Activation)     (None, 109, 109, 32) 0           batch_normalization_565[0][0]    \n",
      "__________________________________________________________________________________________________\n",
      "conv2d_566 (Conv2D)             (None, 109, 109, 64) 18432       activation_565[0][0]             \n",
      "__________________________________________________________________________________________________\n",
      "batch_normalization_566 (BatchN (None, 109, 109, 64) 192         conv2d_566[0][0]                 \n",
      "__________________________________________________________________________________________________\n",
      "activation_566 (Activation)     (None, 109, 109, 64) 0           batch_normalization_566[0][0]    \n",
      "__________________________________________________________________________________________________\n",
      "max_pooling2d_24 (MaxPooling2D) (None, 54, 54, 64)   0           activation_566[0][0]             \n",
      "__________________________________________________________________________________________________\n",
      "conv2d_567 (Conv2D)             (None, 54, 54, 80)   5120        max_pooling2d_24[0][0]           \n",
      "__________________________________________________________________________________________________\n",
      "batch_normalization_567 (BatchN (None, 54, 54, 80)   240         conv2d_567[0][0]                 \n",
      "__________________________________________________________________________________________________\n",
      "activation_567 (Activation)     (None, 54, 54, 80)   0           batch_normalization_567[0][0]    \n",
      "__________________________________________________________________________________________________\n",
      "conv2d_568 (Conv2D)             (None, 52, 52, 192)  138240      activation_567[0][0]             \n",
      "__________________________________________________________________________________________________\n",
      "batch_normalization_568 (BatchN (None, 52, 52, 192)  576         conv2d_568[0][0]                 \n",
      "__________________________________________________________________________________________________\n",
      "activation_568 (Activation)     (None, 52, 52, 192)  0           batch_normalization_568[0][0]    \n",
      "__________________________________________________________________________________________________\n",
      "max_pooling2d_25 (MaxPooling2D) (None, 25, 25, 192)  0           activation_568[0][0]             \n",
      "__________________________________________________________________________________________________\n",
      "conv2d_572 (Conv2D)             (None, 25, 25, 64)   12288       max_pooling2d_25[0][0]           \n",
      "__________________________________________________________________________________________________\n",
      "batch_normalization_572 (BatchN (None, 25, 25, 64)   192         conv2d_572[0][0]                 \n",
      "__________________________________________________________________________________________________\n",
      "activation_572 (Activation)     (None, 25, 25, 64)   0           batch_normalization_572[0][0]    \n",
      "__________________________________________________________________________________________________\n",
      "conv2d_570 (Conv2D)             (None, 25, 25, 48)   9216        max_pooling2d_25[0][0]           \n",
      "__________________________________________________________________________________________________\n",
      "conv2d_573 (Conv2D)             (None, 25, 25, 96)   55296       activation_572[0][0]             \n",
      "__________________________________________________________________________________________________\n",
      "batch_normalization_570 (BatchN (None, 25, 25, 48)   144         conv2d_570[0][0]                 \n",
      "__________________________________________________________________________________________________\n",
      "batch_normalization_573 (BatchN (None, 25, 25, 96)   288         conv2d_573[0][0]                 \n",
      "__________________________________________________________________________________________________\n",
      "activation_570 (Activation)     (None, 25, 25, 48)   0           batch_normalization_570[0][0]    \n",
      "__________________________________________________________________________________________________\n",
      "activation_573 (Activation)     (None, 25, 25, 96)   0           batch_normalization_573[0][0]    \n",
      "__________________________________________________________________________________________________\n",
      "average_pooling2d_54 (AveragePo (None, 25, 25, 192)  0           max_pooling2d_25[0][0]           \n",
      "__________________________________________________________________________________________________\n",
      "conv2d_569 (Conv2D)             (None, 25, 25, 64)   12288       max_pooling2d_25[0][0]           \n",
      "__________________________________________________________________________________________________\n",
      "conv2d_571 (Conv2D)             (None, 25, 25, 64)   76800       activation_570[0][0]             \n",
      "__________________________________________________________________________________________________\n",
      "conv2d_574 (Conv2D)             (None, 25, 25, 96)   82944       activation_573[0][0]             \n",
      "__________________________________________________________________________________________________\n",
      "conv2d_575 (Conv2D)             (None, 25, 25, 32)   6144        average_pooling2d_54[0][0]       \n",
      "__________________________________________________________________________________________________\n",
      "batch_normalization_569 (BatchN (None, 25, 25, 64)   192         conv2d_569[0][0]                 \n",
      "__________________________________________________________________________________________________\n",
      "batch_normalization_571 (BatchN (None, 25, 25, 64)   192         conv2d_571[0][0]                 \n",
      "__________________________________________________________________________________________________\n",
      "batch_normalization_574 (BatchN (None, 25, 25, 96)   288         conv2d_574[0][0]                 \n",
      "__________________________________________________________________________________________________\n",
      "batch_normalization_575 (BatchN (None, 25, 25, 32)   96          conv2d_575[0][0]                 \n",
      "__________________________________________________________________________________________________\n",
      "activation_569 (Activation)     (None, 25, 25, 64)   0           batch_normalization_569[0][0]    \n",
      "__________________________________________________________________________________________________\n",
      "activation_571 (Activation)     (None, 25, 25, 64)   0           batch_normalization_571[0][0]    \n",
      "__________________________________________________________________________________________________\n",
      "activation_574 (Activation)     (None, 25, 25, 96)   0           batch_normalization_574[0][0]    \n",
      "__________________________________________________________________________________________________\n",
      "activation_575 (Activation)     (None, 25, 25, 32)   0           batch_normalization_575[0][0]    \n",
      "__________________________________________________________________________________________________\n",
      "mixed0 (Concatenate)            (None, 25, 25, 256)  0           activation_569[0][0]             \n",
      "                                                                 activation_571[0][0]             \n",
      "                                                                 activation_574[0][0]             \n",
      "                                                                 activation_575[0][0]             \n",
      "__________________________________________________________________________________________________\n",
      "conv2d_579 (Conv2D)             (None, 25, 25, 64)   16384       mixed0[0][0]                     \n",
      "__________________________________________________________________________________________________\n",
      "batch_normalization_579 (BatchN (None, 25, 25, 64)   192         conv2d_579[0][0]                 \n",
      "__________________________________________________________________________________________________\n",
      "activation_579 (Activation)     (None, 25, 25, 64)   0           batch_normalization_579[0][0]    \n",
      "__________________________________________________________________________________________________\n",
      "conv2d_577 (Conv2D)             (None, 25, 25, 48)   12288       mixed0[0][0]                     \n",
      "__________________________________________________________________________________________________\n",
      "conv2d_580 (Conv2D)             (None, 25, 25, 96)   55296       activation_579[0][0]             \n",
      "__________________________________________________________________________________________________\n",
      "batch_normalization_577 (BatchN (None, 25, 25, 48)   144         conv2d_577[0][0]                 \n",
      "__________________________________________________________________________________________________\n",
      "batch_normalization_580 (BatchN (None, 25, 25, 96)   288         conv2d_580[0][0]                 \n",
      "__________________________________________________________________________________________________\n",
      "activation_577 (Activation)     (None, 25, 25, 48)   0           batch_normalization_577[0][0]    \n",
      "__________________________________________________________________________________________________\n",
      "activation_580 (Activation)     (None, 25, 25, 96)   0           batch_normalization_580[0][0]    \n",
      "__________________________________________________________________________________________________\n",
      "average_pooling2d_55 (AveragePo (None, 25, 25, 256)  0           mixed0[0][0]                     \n",
      "__________________________________________________________________________________________________\n",
      "conv2d_576 (Conv2D)             (None, 25, 25, 64)   16384       mixed0[0][0]                     \n",
      "__________________________________________________________________________________________________\n",
      "conv2d_578 (Conv2D)             (None, 25, 25, 64)   76800       activation_577[0][0]             \n",
      "__________________________________________________________________________________________________\n",
      "conv2d_581 (Conv2D)             (None, 25, 25, 96)   82944       activation_580[0][0]             \n",
      "__________________________________________________________________________________________________\n",
      "conv2d_582 (Conv2D)             (None, 25, 25, 64)   16384       average_pooling2d_55[0][0]       \n",
      "__________________________________________________________________________________________________\n",
      "batch_normalization_576 (BatchN (None, 25, 25, 64)   192         conv2d_576[0][0]                 \n",
      "__________________________________________________________________________________________________\n",
      "batch_normalization_578 (BatchN (None, 25, 25, 64)   192         conv2d_578[0][0]                 \n",
      "__________________________________________________________________________________________________\n",
      "batch_normalization_581 (BatchN (None, 25, 25, 96)   288         conv2d_581[0][0]                 \n",
      "__________________________________________________________________________________________________\n",
      "batch_normalization_582 (BatchN (None, 25, 25, 64)   192         conv2d_582[0][0]                 \n",
      "__________________________________________________________________________________________________\n",
      "activation_576 (Activation)     (None, 25, 25, 64)   0           batch_normalization_576[0][0]    \n",
      "__________________________________________________________________________________________________\n",
      "activation_578 (Activation)     (None, 25, 25, 64)   0           batch_normalization_578[0][0]    \n",
      "__________________________________________________________________________________________________\n",
      "activation_581 (Activation)     (None, 25, 25, 96)   0           batch_normalization_581[0][0]    \n",
      "__________________________________________________________________________________________________\n",
      "activation_582 (Activation)     (None, 25, 25, 64)   0           batch_normalization_582[0][0]    \n",
      "__________________________________________________________________________________________________\n",
      "mixed1 (Concatenate)            (None, 25, 25, 288)  0           activation_576[0][0]             \n",
      "                                                                 activation_578[0][0]             \n",
      "                                                                 activation_581[0][0]             \n",
      "                                                                 activation_582[0][0]             \n",
      "__________________________________________________________________________________________________\n",
      "conv2d_586 (Conv2D)             (None, 25, 25, 64)   18432       mixed1[0][0]                     \n",
      "__________________________________________________________________________________________________\n",
      "batch_normalization_586 (BatchN (None, 25, 25, 64)   192         conv2d_586[0][0]                 \n",
      "__________________________________________________________________________________________________\n",
      "activation_586 (Activation)     (None, 25, 25, 64)   0           batch_normalization_586[0][0]    \n",
      "__________________________________________________________________________________________________\n",
      "conv2d_584 (Conv2D)             (None, 25, 25, 48)   13824       mixed1[0][0]                     \n",
      "__________________________________________________________________________________________________\n",
      "conv2d_587 (Conv2D)             (None, 25, 25, 96)   55296       activation_586[0][0]             \n",
      "__________________________________________________________________________________________________\n",
      "batch_normalization_584 (BatchN (None, 25, 25, 48)   144         conv2d_584[0][0]                 \n",
      "__________________________________________________________________________________________________\n",
      "batch_normalization_587 (BatchN (None, 25, 25, 96)   288         conv2d_587[0][0]                 \n",
      "__________________________________________________________________________________________________\n",
      "activation_584 (Activation)     (None, 25, 25, 48)   0           batch_normalization_584[0][0]    \n",
      "__________________________________________________________________________________________________\n",
      "activation_587 (Activation)     (None, 25, 25, 96)   0           batch_normalization_587[0][0]    \n",
      "__________________________________________________________________________________________________\n",
      "average_pooling2d_56 (AveragePo (None, 25, 25, 288)  0           mixed1[0][0]                     \n",
      "__________________________________________________________________________________________________\n",
      "conv2d_583 (Conv2D)             (None, 25, 25, 64)   18432       mixed1[0][0]                     \n",
      "__________________________________________________________________________________________________\n",
      "conv2d_585 (Conv2D)             (None, 25, 25, 64)   76800       activation_584[0][0]             \n",
      "__________________________________________________________________________________________________\n",
      "conv2d_588 (Conv2D)             (None, 25, 25, 96)   82944       activation_587[0][0]             \n",
      "__________________________________________________________________________________________________\n",
      "conv2d_589 (Conv2D)             (None, 25, 25, 64)   18432       average_pooling2d_56[0][0]       \n",
      "__________________________________________________________________________________________________\n",
      "batch_normalization_583 (BatchN (None, 25, 25, 64)   192         conv2d_583[0][0]                 \n",
      "__________________________________________________________________________________________________\n",
      "batch_normalization_585 (BatchN (None, 25, 25, 64)   192         conv2d_585[0][0]                 \n",
      "__________________________________________________________________________________________________\n",
      "batch_normalization_588 (BatchN (None, 25, 25, 96)   288         conv2d_588[0][0]                 \n",
      "__________________________________________________________________________________________________\n",
      "batch_normalization_589 (BatchN (None, 25, 25, 64)   192         conv2d_589[0][0]                 \n",
      "__________________________________________________________________________________________________\n",
      "activation_583 (Activation)     (None, 25, 25, 64)   0           batch_normalization_583[0][0]    \n",
      "__________________________________________________________________________________________________\n",
      "activation_585 (Activation)     (None, 25, 25, 64)   0           batch_normalization_585[0][0]    \n",
      "__________________________________________________________________________________________________\n",
      "activation_588 (Activation)     (None, 25, 25, 96)   0           batch_normalization_588[0][0]    \n",
      "__________________________________________________________________________________________________\n",
      "activation_589 (Activation)     (None, 25, 25, 64)   0           batch_normalization_589[0][0]    \n",
      "__________________________________________________________________________________________________\n",
      "mixed2 (Concatenate)            (None, 25, 25, 288)  0           activation_583[0][0]             \n",
      "                                                                 activation_585[0][0]             \n",
      "                                                                 activation_588[0][0]             \n",
      "                                                                 activation_589[0][0]             \n",
      "__________________________________________________________________________________________________\n",
      "conv2d_591 (Conv2D)             (None, 25, 25, 64)   18432       mixed2[0][0]                     \n",
      "__________________________________________________________________________________________________\n",
      "batch_normalization_591 (BatchN (None, 25, 25, 64)   192         conv2d_591[0][0]                 \n",
      "__________________________________________________________________________________________________\n",
      "activation_591 (Activation)     (None, 25, 25, 64)   0           batch_normalization_591[0][0]    \n",
      "__________________________________________________________________________________________________\n",
      "conv2d_592 (Conv2D)             (None, 25, 25, 96)   55296       activation_591[0][0]             \n",
      "__________________________________________________________________________________________________\n",
      "batch_normalization_592 (BatchN (None, 25, 25, 96)   288         conv2d_592[0][0]                 \n",
      "__________________________________________________________________________________________________\n",
      "activation_592 (Activation)     (None, 25, 25, 96)   0           batch_normalization_592[0][0]    \n",
      "__________________________________________________________________________________________________\n",
      "conv2d_590 (Conv2D)             (None, 12, 12, 384)  995328      mixed2[0][0]                     \n",
      "__________________________________________________________________________________________________\n",
      "conv2d_593 (Conv2D)             (None, 12, 12, 96)   82944       activation_592[0][0]             \n",
      "__________________________________________________________________________________________________\n",
      "batch_normalization_590 (BatchN (None, 12, 12, 384)  1152        conv2d_590[0][0]                 \n",
      "__________________________________________________________________________________________________\n",
      "batch_normalization_593 (BatchN (None, 12, 12, 96)   288         conv2d_593[0][0]                 \n",
      "__________________________________________________________________________________________________\n",
      "activation_590 (Activation)     (None, 12, 12, 384)  0           batch_normalization_590[0][0]    \n",
      "__________________________________________________________________________________________________\n",
      "activation_593 (Activation)     (None, 12, 12, 96)   0           batch_normalization_593[0][0]    \n",
      "__________________________________________________________________________________________________\n",
      "max_pooling2d_26 (MaxPooling2D) (None, 12, 12, 288)  0           mixed2[0][0]                     \n",
      "__________________________________________________________________________________________________\n",
      "mixed3 (Concatenate)            (None, 12, 12, 768)  0           activation_590[0][0]             \n",
      "                                                                 activation_593[0][0]             \n",
      "                                                                 max_pooling2d_26[0][0]           \n",
      "__________________________________________________________________________________________________\n",
      "conv2d_598 (Conv2D)             (None, 12, 12, 128)  98304       mixed3[0][0]                     \n",
      "__________________________________________________________________________________________________\n",
      "batch_normalization_598 (BatchN (None, 12, 12, 128)  384         conv2d_598[0][0]                 \n",
      "__________________________________________________________________________________________________\n",
      "activation_598 (Activation)     (None, 12, 12, 128)  0           batch_normalization_598[0][0]    \n",
      "__________________________________________________________________________________________________\n",
      "conv2d_599 (Conv2D)             (None, 12, 12, 128)  114688      activation_598[0][0]             \n",
      "__________________________________________________________________________________________________\n",
      "batch_normalization_599 (BatchN (None, 12, 12, 128)  384         conv2d_599[0][0]                 \n",
      "__________________________________________________________________________________________________\n",
      "activation_599 (Activation)     (None, 12, 12, 128)  0           batch_normalization_599[0][0]    \n",
      "__________________________________________________________________________________________________\n",
      "conv2d_595 (Conv2D)             (None, 12, 12, 128)  98304       mixed3[0][0]                     \n",
      "__________________________________________________________________________________________________\n",
      "conv2d_600 (Conv2D)             (None, 12, 12, 128)  114688      activation_599[0][0]             \n",
      "__________________________________________________________________________________________________\n",
      "batch_normalization_595 (BatchN (None, 12, 12, 128)  384         conv2d_595[0][0]                 \n",
      "__________________________________________________________________________________________________\n",
      "batch_normalization_600 (BatchN (None, 12, 12, 128)  384         conv2d_600[0][0]                 \n",
      "__________________________________________________________________________________________________\n",
      "activation_595 (Activation)     (None, 12, 12, 128)  0           batch_normalization_595[0][0]    \n",
      "__________________________________________________________________________________________________\n",
      "activation_600 (Activation)     (None, 12, 12, 128)  0           batch_normalization_600[0][0]    \n",
      "__________________________________________________________________________________________________\n",
      "conv2d_596 (Conv2D)             (None, 12, 12, 128)  114688      activation_595[0][0]             \n",
      "__________________________________________________________________________________________________\n",
      "conv2d_601 (Conv2D)             (None, 12, 12, 128)  114688      activation_600[0][0]             \n",
      "__________________________________________________________________________________________________\n",
      "batch_normalization_596 (BatchN (None, 12, 12, 128)  384         conv2d_596[0][0]                 \n",
      "__________________________________________________________________________________________________\n",
      "batch_normalization_601 (BatchN (None, 12, 12, 128)  384         conv2d_601[0][0]                 \n",
      "__________________________________________________________________________________________________\n",
      "activation_596 (Activation)     (None, 12, 12, 128)  0           batch_normalization_596[0][0]    \n",
      "__________________________________________________________________________________________________\n",
      "activation_601 (Activation)     (None, 12, 12, 128)  0           batch_normalization_601[0][0]    \n",
      "__________________________________________________________________________________________________\n",
      "average_pooling2d_57 (AveragePo (None, 12, 12, 768)  0           mixed3[0][0]                     \n",
      "__________________________________________________________________________________________________\n",
      "conv2d_594 (Conv2D)             (None, 12, 12, 192)  147456      mixed3[0][0]                     \n",
      "__________________________________________________________________________________________________\n",
      "conv2d_597 (Conv2D)             (None, 12, 12, 192)  172032      activation_596[0][0]             \n",
      "__________________________________________________________________________________________________\n",
      "conv2d_602 (Conv2D)             (None, 12, 12, 192)  172032      activation_601[0][0]             \n",
      "__________________________________________________________________________________________________\n",
      "conv2d_603 (Conv2D)             (None, 12, 12, 192)  147456      average_pooling2d_57[0][0]       \n",
      "__________________________________________________________________________________________________\n",
      "batch_normalization_594 (BatchN (None, 12, 12, 192)  576         conv2d_594[0][0]                 \n",
      "__________________________________________________________________________________________________\n",
      "batch_normalization_597 (BatchN (None, 12, 12, 192)  576         conv2d_597[0][0]                 \n",
      "__________________________________________________________________________________________________\n",
      "batch_normalization_602 (BatchN (None, 12, 12, 192)  576         conv2d_602[0][0]                 \n",
      "__________________________________________________________________________________________________\n",
      "batch_normalization_603 (BatchN (None, 12, 12, 192)  576         conv2d_603[0][0]                 \n",
      "__________________________________________________________________________________________________\n",
      "activation_594 (Activation)     (None, 12, 12, 192)  0           batch_normalization_594[0][0]    \n",
      "__________________________________________________________________________________________________\n",
      "activation_597 (Activation)     (None, 12, 12, 192)  0           batch_normalization_597[0][0]    \n",
      "__________________________________________________________________________________________________\n",
      "activation_602 (Activation)     (None, 12, 12, 192)  0           batch_normalization_602[0][0]    \n",
      "__________________________________________________________________________________________________\n",
      "activation_603 (Activation)     (None, 12, 12, 192)  0           batch_normalization_603[0][0]    \n",
      "__________________________________________________________________________________________________\n",
      "mixed4 (Concatenate)            (None, 12, 12, 768)  0           activation_594[0][0]             \n",
      "                                                                 activation_597[0][0]             \n",
      "                                                                 activation_602[0][0]             \n",
      "                                                                 activation_603[0][0]             \n",
      "__________________________________________________________________________________________________\n",
      "conv2d_608 (Conv2D)             (None, 12, 12, 160)  122880      mixed4[0][0]                     \n",
      "__________________________________________________________________________________________________\n",
      "batch_normalization_608 (BatchN (None, 12, 12, 160)  480         conv2d_608[0][0]                 \n",
      "__________________________________________________________________________________________________\n",
      "activation_608 (Activation)     (None, 12, 12, 160)  0           batch_normalization_608[0][0]    \n",
      "__________________________________________________________________________________________________\n",
      "conv2d_609 (Conv2D)             (None, 12, 12, 160)  179200      activation_608[0][0]             \n",
      "__________________________________________________________________________________________________\n",
      "batch_normalization_609 (BatchN (None, 12, 12, 160)  480         conv2d_609[0][0]                 \n",
      "__________________________________________________________________________________________________\n",
      "activation_609 (Activation)     (None, 12, 12, 160)  0           batch_normalization_609[0][0]    \n",
      "__________________________________________________________________________________________________\n",
      "conv2d_605 (Conv2D)             (None, 12, 12, 160)  122880      mixed4[0][0]                     \n",
      "__________________________________________________________________________________________________\n",
      "conv2d_610 (Conv2D)             (None, 12, 12, 160)  179200      activation_609[0][0]             \n",
      "__________________________________________________________________________________________________\n",
      "batch_normalization_605 (BatchN (None, 12, 12, 160)  480         conv2d_605[0][0]                 \n",
      "__________________________________________________________________________________________________\n",
      "batch_normalization_610 (BatchN (None, 12, 12, 160)  480         conv2d_610[0][0]                 \n",
      "__________________________________________________________________________________________________\n",
      "activation_605 (Activation)     (None, 12, 12, 160)  0           batch_normalization_605[0][0]    \n",
      "__________________________________________________________________________________________________\n",
      "activation_610 (Activation)     (None, 12, 12, 160)  0           batch_normalization_610[0][0]    \n",
      "__________________________________________________________________________________________________\n",
      "conv2d_606 (Conv2D)             (None, 12, 12, 160)  179200      activation_605[0][0]             \n",
      "__________________________________________________________________________________________________\n",
      "conv2d_611 (Conv2D)             (None, 12, 12, 160)  179200      activation_610[0][0]             \n",
      "__________________________________________________________________________________________________\n",
      "batch_normalization_606 (BatchN (None, 12, 12, 160)  480         conv2d_606[0][0]                 \n",
      "__________________________________________________________________________________________________\n",
      "batch_normalization_611 (BatchN (None, 12, 12, 160)  480         conv2d_611[0][0]                 \n",
      "__________________________________________________________________________________________________\n",
      "activation_606 (Activation)     (None, 12, 12, 160)  0           batch_normalization_606[0][0]    \n",
      "__________________________________________________________________________________________________\n",
      "activation_611 (Activation)     (None, 12, 12, 160)  0           batch_normalization_611[0][0]    \n",
      "__________________________________________________________________________________________________\n",
      "average_pooling2d_58 (AveragePo (None, 12, 12, 768)  0           mixed4[0][0]                     \n",
      "__________________________________________________________________________________________________\n",
      "conv2d_604 (Conv2D)             (None, 12, 12, 192)  147456      mixed4[0][0]                     \n",
      "__________________________________________________________________________________________________\n",
      "conv2d_607 (Conv2D)             (None, 12, 12, 192)  215040      activation_606[0][0]             \n",
      "__________________________________________________________________________________________________\n",
      "conv2d_612 (Conv2D)             (None, 12, 12, 192)  215040      activation_611[0][0]             \n",
      "__________________________________________________________________________________________________\n",
      "conv2d_613 (Conv2D)             (None, 12, 12, 192)  147456      average_pooling2d_58[0][0]       \n",
      "__________________________________________________________________________________________________\n",
      "batch_normalization_604 (BatchN (None, 12, 12, 192)  576         conv2d_604[0][0]                 \n",
      "__________________________________________________________________________________________________\n",
      "batch_normalization_607 (BatchN (None, 12, 12, 192)  576         conv2d_607[0][0]                 \n",
      "__________________________________________________________________________________________________\n",
      "batch_normalization_612 (BatchN (None, 12, 12, 192)  576         conv2d_612[0][0]                 \n",
      "__________________________________________________________________________________________________\n",
      "batch_normalization_613 (BatchN (None, 12, 12, 192)  576         conv2d_613[0][0]                 \n",
      "__________________________________________________________________________________________________\n",
      "activation_604 (Activation)     (None, 12, 12, 192)  0           batch_normalization_604[0][0]    \n",
      "__________________________________________________________________________________________________\n",
      "activation_607 (Activation)     (None, 12, 12, 192)  0           batch_normalization_607[0][0]    \n",
      "__________________________________________________________________________________________________\n",
      "activation_612 (Activation)     (None, 12, 12, 192)  0           batch_normalization_612[0][0]    \n",
      "__________________________________________________________________________________________________\n",
      "activation_613 (Activation)     (None, 12, 12, 192)  0           batch_normalization_613[0][0]    \n",
      "__________________________________________________________________________________________________\n",
      "mixed5 (Concatenate)            (None, 12, 12, 768)  0           activation_604[0][0]             \n",
      "                                                                 activation_607[0][0]             \n",
      "                                                                 activation_612[0][0]             \n",
      "                                                                 activation_613[0][0]             \n",
      "__________________________________________________________________________________________________\n",
      "conv2d_618 (Conv2D)             (None, 12, 12, 160)  122880      mixed5[0][0]                     \n",
      "__________________________________________________________________________________________________\n",
      "batch_normalization_618 (BatchN (None, 12, 12, 160)  480         conv2d_618[0][0]                 \n",
      "__________________________________________________________________________________________________\n",
      "activation_618 (Activation)     (None, 12, 12, 160)  0           batch_normalization_618[0][0]    \n",
      "__________________________________________________________________________________________________\n",
      "conv2d_619 (Conv2D)             (None, 12, 12, 160)  179200      activation_618[0][0]             \n",
      "__________________________________________________________________________________________________\n",
      "batch_normalization_619 (BatchN (None, 12, 12, 160)  480         conv2d_619[0][0]                 \n",
      "__________________________________________________________________________________________________\n",
      "activation_619 (Activation)     (None, 12, 12, 160)  0           batch_normalization_619[0][0]    \n",
      "__________________________________________________________________________________________________\n",
      "conv2d_615 (Conv2D)             (None, 12, 12, 160)  122880      mixed5[0][0]                     \n",
      "__________________________________________________________________________________________________\n",
      "conv2d_620 (Conv2D)             (None, 12, 12, 160)  179200      activation_619[0][0]             \n",
      "__________________________________________________________________________________________________\n",
      "batch_normalization_615 (BatchN (None, 12, 12, 160)  480         conv2d_615[0][0]                 \n",
      "__________________________________________________________________________________________________\n",
      "batch_normalization_620 (BatchN (None, 12, 12, 160)  480         conv2d_620[0][0]                 \n",
      "__________________________________________________________________________________________________\n",
      "activation_615 (Activation)     (None, 12, 12, 160)  0           batch_normalization_615[0][0]    \n",
      "__________________________________________________________________________________________________\n",
      "activation_620 (Activation)     (None, 12, 12, 160)  0           batch_normalization_620[0][0]    \n",
      "__________________________________________________________________________________________________\n",
      "conv2d_616 (Conv2D)             (None, 12, 12, 160)  179200      activation_615[0][0]             \n",
      "__________________________________________________________________________________________________\n",
      "conv2d_621 (Conv2D)             (None, 12, 12, 160)  179200      activation_620[0][0]             \n",
      "__________________________________________________________________________________________________\n",
      "batch_normalization_616 (BatchN (None, 12, 12, 160)  480         conv2d_616[0][0]                 \n",
      "__________________________________________________________________________________________________\n",
      "batch_normalization_621 (BatchN (None, 12, 12, 160)  480         conv2d_621[0][0]                 \n",
      "__________________________________________________________________________________________________\n",
      "activation_616 (Activation)     (None, 12, 12, 160)  0           batch_normalization_616[0][0]    \n",
      "__________________________________________________________________________________________________\n",
      "activation_621 (Activation)     (None, 12, 12, 160)  0           batch_normalization_621[0][0]    \n",
      "__________________________________________________________________________________________________\n",
      "average_pooling2d_59 (AveragePo (None, 12, 12, 768)  0           mixed5[0][0]                     \n",
      "__________________________________________________________________________________________________\n",
      "conv2d_614 (Conv2D)             (None, 12, 12, 192)  147456      mixed5[0][0]                     \n",
      "__________________________________________________________________________________________________\n",
      "conv2d_617 (Conv2D)             (None, 12, 12, 192)  215040      activation_616[0][0]             \n",
      "__________________________________________________________________________________________________\n",
      "conv2d_622 (Conv2D)             (None, 12, 12, 192)  215040      activation_621[0][0]             \n",
      "__________________________________________________________________________________________________\n",
      "conv2d_623 (Conv2D)             (None, 12, 12, 192)  147456      average_pooling2d_59[0][0]       \n",
      "__________________________________________________________________________________________________\n",
      "batch_normalization_614 (BatchN (None, 12, 12, 192)  576         conv2d_614[0][0]                 \n",
      "__________________________________________________________________________________________________\n",
      "batch_normalization_617 (BatchN (None, 12, 12, 192)  576         conv2d_617[0][0]                 \n",
      "__________________________________________________________________________________________________\n",
      "batch_normalization_622 (BatchN (None, 12, 12, 192)  576         conv2d_622[0][0]                 \n",
      "__________________________________________________________________________________________________\n",
      "batch_normalization_623 (BatchN (None, 12, 12, 192)  576         conv2d_623[0][0]                 \n",
      "__________________________________________________________________________________________________\n",
      "activation_614 (Activation)     (None, 12, 12, 192)  0           batch_normalization_614[0][0]    \n",
      "__________________________________________________________________________________________________\n",
      "activation_617 (Activation)     (None, 12, 12, 192)  0           batch_normalization_617[0][0]    \n",
      "__________________________________________________________________________________________________\n",
      "activation_622 (Activation)     (None, 12, 12, 192)  0           batch_normalization_622[0][0]    \n",
      "__________________________________________________________________________________________________\n",
      "activation_623 (Activation)     (None, 12, 12, 192)  0           batch_normalization_623[0][0]    \n",
      "__________________________________________________________________________________________________\n",
      "mixed6 (Concatenate)            (None, 12, 12, 768)  0           activation_614[0][0]             \n",
      "                                                                 activation_617[0][0]             \n",
      "                                                                 activation_622[0][0]             \n",
      "                                                                 activation_623[0][0]             \n",
      "__________________________________________________________________________________________________\n",
      "conv2d_628 (Conv2D)             (None, 12, 12, 192)  147456      mixed6[0][0]                     \n",
      "__________________________________________________________________________________________________\n",
      "batch_normalization_628 (BatchN (None, 12, 12, 192)  576         conv2d_628[0][0]                 \n",
      "__________________________________________________________________________________________________\n",
      "activation_628 (Activation)     (None, 12, 12, 192)  0           batch_normalization_628[0][0]    \n",
      "__________________________________________________________________________________________________\n",
      "conv2d_629 (Conv2D)             (None, 12, 12, 192)  258048      activation_628[0][0]             \n",
      "__________________________________________________________________________________________________\n",
      "batch_normalization_629 (BatchN (None, 12, 12, 192)  576         conv2d_629[0][0]                 \n",
      "__________________________________________________________________________________________________\n",
      "activation_629 (Activation)     (None, 12, 12, 192)  0           batch_normalization_629[0][0]    \n",
      "__________________________________________________________________________________________________\n",
      "conv2d_625 (Conv2D)             (None, 12, 12, 192)  147456      mixed6[0][0]                     \n",
      "__________________________________________________________________________________________________\n",
      "conv2d_630 (Conv2D)             (None, 12, 12, 192)  258048      activation_629[0][0]             \n",
      "__________________________________________________________________________________________________\n",
      "batch_normalization_625 (BatchN (None, 12, 12, 192)  576         conv2d_625[0][0]                 \n",
      "__________________________________________________________________________________________________\n",
      "batch_normalization_630 (BatchN (None, 12, 12, 192)  576         conv2d_630[0][0]                 \n",
      "__________________________________________________________________________________________________\n",
      "activation_625 (Activation)     (None, 12, 12, 192)  0           batch_normalization_625[0][0]    \n",
      "__________________________________________________________________________________________________\n",
      "activation_630 (Activation)     (None, 12, 12, 192)  0           batch_normalization_630[0][0]    \n",
      "__________________________________________________________________________________________________\n",
      "conv2d_626 (Conv2D)             (None, 12, 12, 192)  258048      activation_625[0][0]             \n",
      "__________________________________________________________________________________________________\n",
      "conv2d_631 (Conv2D)             (None, 12, 12, 192)  258048      activation_630[0][0]             \n",
      "__________________________________________________________________________________________________\n",
      "batch_normalization_626 (BatchN (None, 12, 12, 192)  576         conv2d_626[0][0]                 \n",
      "__________________________________________________________________________________________________\n",
      "batch_normalization_631 (BatchN (None, 12, 12, 192)  576         conv2d_631[0][0]                 \n",
      "__________________________________________________________________________________________________\n",
      "activation_626 (Activation)     (None, 12, 12, 192)  0           batch_normalization_626[0][0]    \n",
      "__________________________________________________________________________________________________\n",
      "activation_631 (Activation)     (None, 12, 12, 192)  0           batch_normalization_631[0][0]    \n",
      "__________________________________________________________________________________________________\n",
      "average_pooling2d_60 (AveragePo (None, 12, 12, 768)  0           mixed6[0][0]                     \n",
      "__________________________________________________________________________________________________\n",
      "conv2d_624 (Conv2D)             (None, 12, 12, 192)  147456      mixed6[0][0]                     \n",
      "__________________________________________________________________________________________________\n",
      "conv2d_627 (Conv2D)             (None, 12, 12, 192)  258048      activation_626[0][0]             \n",
      "__________________________________________________________________________________________________\n",
      "conv2d_632 (Conv2D)             (None, 12, 12, 192)  258048      activation_631[0][0]             \n",
      "__________________________________________________________________________________________________\n",
      "conv2d_633 (Conv2D)             (None, 12, 12, 192)  147456      average_pooling2d_60[0][0]       \n",
      "__________________________________________________________________________________________________\n",
      "batch_normalization_624 (BatchN (None, 12, 12, 192)  576         conv2d_624[0][0]                 \n",
      "__________________________________________________________________________________________________\n",
      "batch_normalization_627 (BatchN (None, 12, 12, 192)  576         conv2d_627[0][0]                 \n",
      "__________________________________________________________________________________________________\n",
      "batch_normalization_632 (BatchN (None, 12, 12, 192)  576         conv2d_632[0][0]                 \n",
      "__________________________________________________________________________________________________\n",
      "batch_normalization_633 (BatchN (None, 12, 12, 192)  576         conv2d_633[0][0]                 \n",
      "__________________________________________________________________________________________________\n",
      "activation_624 (Activation)     (None, 12, 12, 192)  0           batch_normalization_624[0][0]    \n",
      "__________________________________________________________________________________________________\n",
      "activation_627 (Activation)     (None, 12, 12, 192)  0           batch_normalization_627[0][0]    \n",
      "__________________________________________________________________________________________________\n",
      "activation_632 (Activation)     (None, 12, 12, 192)  0           batch_normalization_632[0][0]    \n",
      "__________________________________________________________________________________________________\n",
      "activation_633 (Activation)     (None, 12, 12, 192)  0           batch_normalization_633[0][0]    \n",
      "__________________________________________________________________________________________________\n",
      "mixed7 (Concatenate)            (None, 12, 12, 768)  0           activation_624[0][0]             \n",
      "                                                                 activation_627[0][0]             \n",
      "                                                                 activation_632[0][0]             \n",
      "                                                                 activation_633[0][0]             \n",
      "__________________________________________________________________________________________________\n",
      "conv2d_636 (Conv2D)             (None, 12, 12, 192)  147456      mixed7[0][0]                     \n",
      "__________________________________________________________________________________________________\n",
      "batch_normalization_636 (BatchN (None, 12, 12, 192)  576         conv2d_636[0][0]                 \n",
      "__________________________________________________________________________________________________\n",
      "activation_636 (Activation)     (None, 12, 12, 192)  0           batch_normalization_636[0][0]    \n",
      "__________________________________________________________________________________________________\n",
      "conv2d_637 (Conv2D)             (None, 12, 12, 192)  258048      activation_636[0][0]             \n",
      "__________________________________________________________________________________________________\n",
      "batch_normalization_637 (BatchN (None, 12, 12, 192)  576         conv2d_637[0][0]                 \n",
      "__________________________________________________________________________________________________\n",
      "activation_637 (Activation)     (None, 12, 12, 192)  0           batch_normalization_637[0][0]    \n",
      "__________________________________________________________________________________________________\n",
      "conv2d_634 (Conv2D)             (None, 12, 12, 192)  147456      mixed7[0][0]                     \n",
      "__________________________________________________________________________________________________\n",
      "conv2d_638 (Conv2D)             (None, 12, 12, 192)  258048      activation_637[0][0]             \n",
      "__________________________________________________________________________________________________\n",
      "batch_normalization_634 (BatchN (None, 12, 12, 192)  576         conv2d_634[0][0]                 \n",
      "__________________________________________________________________________________________________\n",
      "batch_normalization_638 (BatchN (None, 12, 12, 192)  576         conv2d_638[0][0]                 \n",
      "__________________________________________________________________________________________________\n",
      "activation_634 (Activation)     (None, 12, 12, 192)  0           batch_normalization_634[0][0]    \n",
      "__________________________________________________________________________________________________\n",
      "activation_638 (Activation)     (None, 12, 12, 192)  0           batch_normalization_638[0][0]    \n",
      "__________________________________________________________________________________________________\n",
      "conv2d_635 (Conv2D)             (None, 5, 5, 320)    552960      activation_634[0][0]             \n",
      "__________________________________________________________________________________________________\n",
      "conv2d_639 (Conv2D)             (None, 5, 5, 192)    331776      activation_638[0][0]             \n",
      "__________________________________________________________________________________________________\n",
      "batch_normalization_635 (BatchN (None, 5, 5, 320)    960         conv2d_635[0][0]                 \n",
      "__________________________________________________________________________________________________\n",
      "batch_normalization_639 (BatchN (None, 5, 5, 192)    576         conv2d_639[0][0]                 \n",
      "__________________________________________________________________________________________________\n",
      "activation_635 (Activation)     (None, 5, 5, 320)    0           batch_normalization_635[0][0]    \n",
      "__________________________________________________________________________________________________\n",
      "activation_639 (Activation)     (None, 5, 5, 192)    0           batch_normalization_639[0][0]    \n",
      "__________________________________________________________________________________________________\n",
      "max_pooling2d_27 (MaxPooling2D) (None, 5, 5, 768)    0           mixed7[0][0]                     \n",
      "__________________________________________________________________________________________________\n",
      "mixed8 (Concatenate)            (None, 5, 5, 1280)   0           activation_635[0][0]             \n",
      "                                                                 activation_639[0][0]             \n",
      "                                                                 max_pooling2d_27[0][0]           \n",
      "__________________________________________________________________________________________________\n",
      "flatten_6 (Flatten)             (None, 32000)        0           mixed8[0][0]                     \n",
      "__________________________________________________________________________________________________\n",
      "dense_10 (Dense)                (None, 1024)         32769024    flatten_6[0][0]                  \n",
      "__________________________________________________________________________________________________\n",
      "dense_11 (Dense)                (None, 2)            2050        dense_10[0][0]                   \n",
      "==================================================================================================\n",
      "Total params: 43,445,922\n",
      "Trainable params: 43,424,546\n",
      "Non-trainable params: 21,376\n",
      "__________________________________________________________________________________________________\n"
     ]
    }
   ],
   "source": [
    "pre_trained_model = InceptionV3(input_shape = (224, 224, 3), \n",
    "                                include_top = False, \n",
    "                                weights = None,\n",
    "                                classifier_activation=\"relu\")\n",
    "\n",
    "pre_trained_model.load_weights(r'inception_v3_weights_tf_dim_ordering_tf_kernels_notop.h5')\n",
    "\n",
    "for layer in pre_trained_model.layers:\n",
    "    layer.trainable= True\n",
    "last_layer= pre_trained_model.get_layer('mixed8')\n",
    "print(last_layer.output_shape)\n",
    "last_output= last_layer.output\n",
    "from tensorflow.keras.optimizers import Adam\n",
    "\n",
    "#Flatten output layer 1D\n",
    "x= layers.Flatten()(last_output)\n",
    "\n",
    "#Fully connected layer\n",
    "#x= layers.Dense(1024, activation='relu')(x)\n",
    "x= layers.Dense(1024, activation='relu')(x)\n",
    "\n",
    "#Dropout due to overfitting\n",
    "#x= layers.Dropout(0.2)(x)\n",
    "\n",
    "#Sigmoid for classification\n",
    "x= layers.Dense(2, activation='softmax')(x)\n",
    "\n",
    "model = Model(pre_trained_model.input, x)\n",
    "\n",
    "model.compile(optimizer = Adam(lr=0.01), \n",
    "              loss = 'binary_crossentropy', \n",
    "              metrics = ['accuracy'])\n",
    "\n",
    "model.summary()"
   ]
  },
  {
   "cell_type": "code",
   "execution_count": 51,
   "id": "be0b4cf4",
   "metadata": {
    "scrolled": true
   },
   "outputs": [
    {
     "name": "stdout",
     "output_type": "stream",
     "text": [
      "Epoch 1/20\n",
      "19/19 [==============================] - 186s 9s/step - loss: 11.9479 - accuracy: 0.4833 - val_loss: 1787731139973087232.0000 - val_accuracy: 0.5000\n",
      "Epoch 2/20\n",
      "19/19 [==============================] - 183s 10s/step - loss: 1.7270 - accuracy: 0.5017 - val_loss: 1472170557440.0000 - val_accuracy: 0.5000\n",
      "Epoch 3/20\n",
      "19/19 [==============================] - 180s 10s/step - loss: 1.0357 - accuracy: 0.4650 - val_loss: 535839680.0000 - val_accuracy: 0.5000\n",
      "Epoch 4/20\n",
      "19/19 [==============================] - 181s 10s/step - loss: 0.8408 - accuracy: 0.4883 - val_loss: 4682773.0000 - val_accuracy: 0.5000\n",
      "Epoch 5/20\n",
      "19/19 [==============================] - 180s 10s/step - loss: 0.7010 - accuracy: 0.5317 - val_loss: 85501.6484 - val_accuracy: 0.5000\n",
      "Epoch 6/20\n",
      "19/19 [==============================] - 180s 9s/step - loss: 0.6928 - accuracy: 0.5150 - val_loss: 1830.4733 - val_accuracy: 0.5000\n",
      "Epoch 7/20\n",
      "19/19 [==============================] - 179s 9s/step - loss: 0.6768 - accuracy: 0.5567 - val_loss: 62.9996 - val_accuracy: 0.5000\n",
      "Epoch 8/20\n",
      "19/19 [==============================] - 182s 10s/step - loss: 0.6751 - accuracy: 0.5467 - val_loss: 3.8027 - val_accuracy: 0.4902\n",
      "Epoch 9/20\n",
      "19/19 [==============================] - 179s 9s/step - loss: 0.6577 - accuracy: 0.5833 - val_loss: 1.6294 - val_accuracy: 0.5196\n",
      "Epoch 10/20\n",
      "19/19 [==============================] - 179s 9s/step - loss: 0.6084 - accuracy: 0.6733 - val_loss: 1.9249 - val_accuracy: 0.6275\n",
      "Epoch 11/20\n",
      "19/19 [==============================] - 178s 9s/step - loss: 0.4676 - accuracy: 0.7950 - val_loss: 2.5348 - val_accuracy: 0.7288\n",
      "Epoch 12/20\n",
      "19/19 [==============================] - 179s 9s/step - loss: 0.3199 - accuracy: 0.8800 - val_loss: 0.5112 - val_accuracy: 0.8105\n",
      "Epoch 13/20\n",
      "19/19 [==============================] - 178s 9s/step - loss: 0.2419 - accuracy: 0.9183 - val_loss: 0.3899 - val_accuracy: 0.8627\n",
      "Epoch 14/20\n",
      "19/19 [==============================] - 178s 9s/step - loss: 0.2949 - accuracy: 0.8900 - val_loss: 38.4921 - val_accuracy: 0.5980\n",
      "Epoch 15/20\n",
      "19/19 [==============================] - 178s 9s/step - loss: 0.2720 - accuracy: 0.9117 - val_loss: 2.2895 - val_accuracy: 0.8235\n",
      "Epoch 16/20\n",
      "19/19 [==============================] - 178s 9s/step - loss: 0.2406 - accuracy: 0.8983 - val_loss: 16.9235 - val_accuracy: 0.7386\n",
      "Epoch 17/20\n",
      "19/19 [==============================] - 183s 10s/step - loss: 0.2843 - accuracy: 0.9067 - val_loss: 3.4896 - val_accuracy: 0.7745\n",
      "Epoch 18/20\n",
      "19/19 [==============================] - 181s 9s/step - loss: 0.2139 - accuracy: 0.9067 - val_loss: 4.8097 - val_accuracy: 0.8562\n",
      "Epoch 19/20\n",
      "19/19 [==============================] - 179s 9s/step - loss: 0.3362 - accuracy: 0.8850 - val_loss: 0.9325 - val_accuracy: 0.7092\n",
      "Epoch 20/20\n",
      "19/19 [==============================] - 205s 11s/step - loss: 0.2850 - accuracy: 0.9117 - val_loss: 0.7684 - val_accuracy: 0.7778\n"
     ]
    }
   ],
   "source": [
    "r = model.fit(\n",
    "  train_data,\n",
    "  validation_data=test_set,\n",
    "  epochs=20,\n",
    "  steps_per_epoch=len(train_data),\n",
    "  validation_steps=len(test_set)\n",
    ")"
   ]
  },
  {
   "cell_type": "code",
   "execution_count": 49,
   "id": "4445a04a",
   "metadata": {
    "scrolled": true
   },
   "outputs": [
    {
     "data": {
      "image/png": "[encoded data removed]",
      "text/plain": [
       "<Figure size 432x288 with 1 Axes>"
      ]
     },
     "metadata": {
      "needs_background": "light"
     },
     "output_type": "display_data"
    },
    {
     "data": {
      "image/png": "[encoded data removed]",
      "text/plain": [
       "<Figure size 432x288 with 1 Axes>"
      ]
     },
     "metadata": {
      "needs_background": "light"
     },
     "output_type": "display_data"
    }
   ],
   "source": [
    "import matplotlib.pyplot as plt\n",
    "plt.plot(r.history['loss'], label='train loss')\n",
    "plt.plot(r.history['val_loss'], label='val loss')\n",
    "plt.ylabel(\"Loss\")\n",
    "plt.xlabel(\"Epochs\")\n",
    "plt.title(\"Train and validation Loss\")\n",
    "plt.legend()\n",
    "plt.show()\n",
    "\n",
    "\n",
    "# accuracies\n",
    "plt.plot(r.history['accuracy'], label='train acc')\n",
    "plt.plot(r.history['val_accuracy'], label='val acc')\n",
    "plt.ylabel(\"Accuracy\")\n",
    "plt.xlabel(\"Epochs\")\n",
    "plt.title(\"Train and validation Accuracy\")\n",
    "plt.legend()\n",
    "plt.show()"
   ]
  },
  {
   "cell_type": "code",
   "execution_count": 37,
   "id": "a183a3ee",
   "metadata": {},
   "outputs": [],
   "source": [
    "model.save(\"inceptionv3.h5\")"
   ]
  }
 ],
 "metadata": {
  "kernelspec": {
   "display_name": "Python 3 (ipykernel)",
   "language": "python",
   "name": "python3"
  },
  "language_info": {
   "codemirror_mode": {
    "name": "ipython",
    "version": 3
   },
   "file_extension": ".py",
   "mimetype": "text/x-python",
   "name": "python",
   "nbconvert_exporter": "python",
   "pygments_lexer": "ipython3",
   "version": "3.9.7"
  },
  "vscode": {
   "interpreter": {
    "hash": "10166493f84ec5a78c0d7b9d3df11f639bd1362675635e50599619d079b5ee4d"
   }
  }
 },
 "nbformat": 4,
 "nbformat_minor": 5
}
